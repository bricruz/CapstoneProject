{
 "cells": [
  {
   "cell_type": "markdown",
   "metadata": {},
   "source": [
    "# Dallas vs. Fort Worth"
   ]
  },
  {
   "cell_type": "markdown",
   "metadata": {},
   "source": [
    "### Texas is thriving and people from all over the world move here for work. Typically people who move to North Texas for work live in or near either Fort Worth or Dallas. Despite these two cities proximity to one another they have very different vibes. I will be leveraging FourSquare location data to compare the two cities similarities/dissimilarities to create suggestions for people moving to North Texas, based on their interests. "
   ]
  },
  {
   "cell_type": "markdown",
   "metadata": {},
   "source": [
    "# Data Described"
   ]
  },
  {
   "cell_type": "markdown",
   "metadata": {},
   "source": [
    "### I will be using Four Square location data to gather information about these two cities. There is a lot of data that can be gathered about Four Square venues including: comments, checkins, likes, venue category, venue name, trending details and more. I will be looking more specifically at the most common type of venues in each city and comparing how the two cities are similar or dissimilar. This data will help people moving to North Texas choose a city to move to based on their lifestyle and the sorts of venues they would frequent."
   ]
  },
  {
   "cell_type": "code",
   "execution_count": null,
   "metadata": {},
   "outputs": [],
   "source": []
  }
 ],
 "metadata": {
  "kernelspec": {
   "display_name": "Python 3",
   "language": "python",
   "name": "python3"
  },
  "language_info": {
   "codemirror_mode": {
    "name": "ipython",
    "version": 3
   },
   "file_extension": ".py",
   "mimetype": "text/x-python",
   "name": "python",
   "nbconvert_exporter": "python",
   "pygments_lexer": "ipython3",
   "version": "3.7.6"
  }
 },
 "nbformat": 4,
 "nbformat_minor": 4
}
